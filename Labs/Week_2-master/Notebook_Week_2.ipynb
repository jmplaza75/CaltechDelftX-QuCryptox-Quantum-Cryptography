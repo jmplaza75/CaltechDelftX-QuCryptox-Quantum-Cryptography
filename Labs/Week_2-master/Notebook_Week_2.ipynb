{
 "cells": [
  {
   "cell_type": "markdown",
   "metadata": {},
   "source": [
    "<h1 style=\"color:#00A6D6;\">Week 2: The power of entanglement </h1>\n",
    "\n",
    "* <a href=\"#sep\"> Separable vs Entangled states </a>\n",
    "\n",
    "* <a href=\"#uhl\"> Uhlman's theorem </a>\n",
    "\n",
    "* <a href=\"#sch\"> Schmidt Decomposition </a>\n",
    "\n",
    "* <a href=\"#bel\"> Bell Test </a>"
   ]
  },
  {
   "cell_type": "markdown",
   "metadata": {},
   "source": [
    "Notice that the line below will make Julia add and compile several packages. After compiling them it will print several info and warning messages."
   ]
  },
  {
   "cell_type": "code",
   "execution_count": null,
   "metadata": {
    "collapsed": false
   },
   "outputs": [],
   "source": [
    "include(\"source/main.jl\")"
   ]
  },
  {
   "cell_type": "markdown",
   "metadata": {},
   "source": [
    "<a id=\"sep\"></a>\n",
    "<h2 style=\"color:#00A6D6;\"> Separable vs Entangled states </h2>\n",
    "\n",
    "This week we learnt formally about entangled states. Given two quantum systems $A$ and $B$ the joint system is separable if it can be written like \n",
    "\n",
    "$$\n",
    "\\rho_{AB}=\\sum_xp_x\\rho_x^A\\otimes\\rho_x^B\n",
    "$$ \n",
    "\n",
    "where $\\{p_x\\}_x$ is some probability distribution and $\\{\\rho_x^A\\}_x$, $\\{\\rho_x^B\\}_x$ are valid quantum states. Otherwise we say that the state is entangled. \n",
    "\n",
    "We have prepared for you the function check_entangled. It can decide whether a bipartite qubit state (Alice and Bob hold qubits) is entangled or not. This trick however works only if A and B are qubits - in fact, it is NP hard to find out whether an arbitrary density matrix is entangled! Let us first try it with the maximally mixed state."
   ]
  },
  {
   "cell_type": "code",
   "execution_count": null,
   "metadata": {
    "collapsed": false
   },
   "outputs": [],
   "source": [
    "rho = [0.25 0 0 0; 0 0.25 0 0; 0 0 0.25 0; 0 0 0 0.25]\n",
    "check_entangled(rho)"
   ]
  },
  {
   "cell_type": "markdown",
   "metadata": {
    "collapsed": true
   },
   "source": [
    "Can you guess if the following states are entangled or not? Try first to think what should the answer be and then use the function given."
   ]
  },
  {
   "cell_type": "markdown",
   "metadata": {},
   "source": [
    "<h3 style=\"color:#00A6D6;\"> edX Exercise 1</h3>\n",
    "\n",
    "Check whether or not the following states are entangled.\n",
    "\n",
    "1. $\\rho_{AB}=\\begin{pmatrix} 0.5 & 0.0 & 0.0 & -0.3 \\\\ 0.0 & 0.0 & 0.0 & 0.0 \\\\ 0.0 & 0.0 & 0.0 & 0.0 \\\\ -0.3 & 0.0 & 0.0 & 0.5\\end{pmatrix}$\n",
    "2. $\\rho_{AB}=\\begin{pmatrix} 0.5 & 0.0 & 0.0 & 0.0 \\\\ 0.0 & 0.0 & 0.0 & 0.0 \\\\ 0.0 & 0.0 & 0.0 & 0.0 \\\\ 0.0 & 0.0 & 0.0 & 0.5\\end{pmatrix}$\n",
    "3. $\\rho_{AB}=\\begin{pmatrix} 0.25 & 0.25 & 0.0 & 0.0 \\\\ 0.25 & 0.25 & 0.0 & 0.0 \\\\ 0.0 & 0.0 & 0.25 & 0.25 \\\\ 0.0 & 0.0 & 0.25 & 0.25\\end{pmatrix}$"
   ]
  },
  {
   "cell_type": "markdown",
   "metadata": {},
   "source": [
    "<h3 style=\"color:#00A6D6;\"> Supplement edX Exercise 1</h3>\n",
    "\n",
    "One would imagine that checking whether a state is entangled is very simple. It turns out that this is only the case for very small dimensional systems. More concretely, in the case that both Alice and Bob hold qubits there is a very simple test. This is the test that we have implemented in the function check_entangled. Imagine that we are given \n",
    "\n",
    "$$\n",
    "\\rho_{AB}=\\sum_{i,j}\\lambda_{ijkl}|i\\rangle\\langle j|^A\\otimes |k\\rangle\\langle l|^B,\n",
    "$$ \n",
    "\n",
    "the test consist in checking whether the matrix $\\rho_{AB}^{\\Gamma_B}$ is positive or not. Specifically, with positive we mean that $\\rho_{AB}^{\\Gamma_B}$ is positive-semidefinite, i.e., having no negative eigenvalues. $\\rho_{AB}^{\\Gamma_B}$ is called the partial transpose of the $B$ system and can be computed as follows:\n",
    "\n",
    "\\begin{align}\n",
    "\\rho_{AB}^{\\Gamma_B} &=\\sum_{i,j}\\lambda_{ijkl}|i\\rangle\\langle j|^A \\otimes  T\\left(|k\\rangle\\langle l|\\right)^B\\\\\n",
    "              &=\\sum_{i,j}\\lambda_{ijkl} |i\\rangle\\langle j|^A \\otimes |l\\rangle\\langle k|^B\n",
    "\\end{align}\n",
    "\n",
    "where $T(|i\\rangle\\langle j|)=|j\\rangle\\langle i|$. That is, $T$ corresponds with the transpose operation. If you are curious check the source code!\n",
    "\n",
    "Correspondingly, the test is also called the partial transpose test. For qubits the test is exact: $\\rho_{AB}$ is NOT entangled if and only if $\\rho_{AB}^{\\Gamma_B} \\geq 0$. However, in general the test only gives a one-sided indicator: if NOT $\\rho_{AB}^{\\Gamma_B} \\geq 0$, then $\\rho_{AB}^{\\Gamma_B}$ is entangled. However, if $\\rho_{AB}^{\\Gamma_B} \\geq 0$ then the state can be both entangled or separable. "
   ]
  },
  {
   "cell_type": "markdown",
   "metadata": {},
   "source": [
    "<a id=\"uhl\"></a>\n",
    "<h2 style=\"color:#00A6D6;\"> Uhlman's theorem </h2>\n",
    "\n",
    "Later on, we will use Uhlman's theorem to cheat on a cryptographic protocol! To this end, let us delve into detail on how we can make it work towards our advantage. \n",
    "When two **rank-one** density matrices $\\Phi^+_{AB}$ and $\\Psi^+_{AB}$ have the same partial trace - $Tr_{A}(\\Phi^+_{AB}) = Tr_A(\\Psi^+_{AB})$ - it follows - in accordance with Uhlman's theorem - that the matrices are equivalent up to a local unitary on $A$. This means that if Bob has qubit $B$, then Alice can - by applying this precise unitary! - transform one state to the other. \n",
    "\n",
    "Let us demonstrate this with an example:\n",
    "\n",
    "<h4 style=\"color:#00A6D6;\"> Example </h4>\n",
    "\n",
    "Are \n",
    "\n",
    "$$ \\Phi^+_{AB} = \\frac{1}{2} \\cdot \\begin{pmatrix} 1 & 0 & 0 & 1 \\\\ 0 & 0 & 0 & 0 \\\\ 0 & 0 & 0 & 0 \\\\ 1 & 0 & 0 & 1  \\end{pmatrix} $$\n",
    "\n",
    "and \n",
    "\n",
    "$$ \\Psi^+_{AB} = \\frac{1}{2} \\cdot \\begin{pmatrix} 0 & 0 & 0 & 0 \\\\ 0 & 1 & 1 & 0 \\\\ 0 & 1 & 1 & 0 \\\\ 0 & 0 & 0 & 0  \\end{pmatrix} $$\n",
    "\n",
    "equivalent up to a local unitary? Well, these matrices both have equal partial traces. \n",
    "\n",
    "$$ \\frac{1}{2} \\cdot \\begin{pmatrix} 1 & 0 \\\\ 0 & 1 \\end{pmatrix} \\:. $$\n",
    "\n",
    "Hence, it follows that these states are equivalent up to a local unitary. More concretely, it turns out that\n",
    "\n",
    "$$ \\Phi^+_{AB} = \\big( I_A \\otimes X_B \\big) \\cdot \\Psi^+_{AB} \\cdot \\big( I_A \\otimes X_B \\big) $$\n",
    "\n",
    "or like wise\n",
    "\n",
    "$$ \\Phi^+_{AB} = \\big( X_A \\otimes I_B \\big) \\cdot \\Psi^+_{AB} \\cdot \\big( X_A \\otimes I_B \\big)\\ .$$\n",
    "\n",
    "where $X_A$ and $X_B$ are the Pauli $X$ - i.e. the bit flip operation - applied to qubits $A$ and $B$ respectively. Alice can thus apply $X_A$ to her qubit to transform one state to the other, and so can Bob by applying $X_B$. \n",
    "\n",
    "We have written the function partialTrace to compute the partial trace of a bipartite qubit system. In order to check that the example states have equal reduced states, this is the code that we could run:"
   ]
  },
  {
   "cell_type": "code",
   "execution_count": null,
   "metadata": {
    "collapsed": false
   },
   "outputs": [],
   "source": [
    "PhiPlus =  [.5 0 0 .5; 0 0 0 0; 0 0 0 0; .5 0 0 .5]\n",
    "partialTrace(PhiPlus,\"B\") # returns the reduced state on A (traces out the B system)"
   ]
  },
  {
   "cell_type": "code",
   "execution_count": null,
   "metadata": {
    "collapsed": false
   },
   "outputs": [],
   "source": [
    "PsiPlus =  [0 0 0 0; 0 0.5 0.5 0; 0 0.5 0.5 0; 0 0 0 0]\n",
    "partialTrace(PsiPlus,\"B\") # returns the reduced state on A (traces out the B system)"
   ]
  },
  {
   "cell_type": "markdown",
   "metadata": {},
   "source": [
    "<h3 style=\"color:#00A6D6;\"> edX Exercise 2.1</h3>\n",
    "\n",
    "Are the matrices\n",
    "\n",
    "$$ \\rho^1_{AB} = \\begin{pmatrix} \\frac{1}{3} & 0.0 & 0.0 & -\\frac{\\sqrt{2}}{3} \\\\ 0.0 & 0.0 & 0.0 & 0.0 \\\\ 0.0 & 0.0 & 0.0 & 0.0 \\\\ -\\frac{\\sqrt{2}}{3} & 0.0 & 0.0 & \\frac{2}{3}\\end{pmatrix}$$\n",
    "\n",
    "$$ \\rho^2_{AB} = \\begin{pmatrix} 0.0 & 0.0 & 0.0 & 0.0 \\\\ 0.0 & \\frac{1}{3} & -\\frac{\\sqrt{2}}{3} & 0.0 \\\\ 0.0 & -\\frac{\\sqrt{2}}{3} & \\frac{2}{3} & 0.0 \\\\ 0.0 & 0.0 & 0.0 & 0.0\\end{pmatrix}$$\n",
    "\n",
    "equivalent up to a local unitary? \n",
    "\n",
    "<h3 style=\"color:#00A6D6;\"> edX Exercise 2.2</h3>\n",
    "\n",
    "Next, are the matrices\n",
    "\n",
    "$$ \\rho^1_{AB} = \\begin{pmatrix} \\frac{1}{3} & 0.0 & 0.0 & -\\frac{\\sqrt{2}}{3} \\\\ 0.0 & 0.0 & 0.0 & 0.0 \\\\ 0.0 & 0.0 & 0.0 & 0.0 \\\\ -\\frac{\\sqrt{2}}{3} & 0.0 & 0.0 & \\frac{2}{3}\\end{pmatrix}$$\n",
    "\n",
    "$$ \\rho^2_{AB} = \\begin{pmatrix} 0.0 & 0.0 & 0.0 & 0.0 \\\\ 0.0 & \\frac{1}{3} & 0.0 & 0.0 \\\\ 0.0 & 0.0 & \\frac{2}{3} & 0.0 \\\\ 0.0 & 0.0 & 0.0 & 0.0\\end{pmatrix}$$\n",
    "\n",
    "equivalent up to a local unitary?"
   ]
  },
  {
   "cell_type": "markdown",
   "metadata": {},
   "source": [
    "<a id=\"sch\"></a>\n",
    "<h2 style=\"color:#00A6D6;\"> Schmidt decomposition </h2>\n",
    "\n",
    "We have already called the EPR pair maximally entangled. But can states also be somewhat entangled? And how could we measure such partial entanglement? \n",
    "\n",
    "Many measures exist for entanglement - one very convenient one arises from the Schmidt decomposition. Let's see how this works!\n",
    "\n",
    "A pure bipartite state can in general be written down as \n",
    "\n",
    "$$ \\lvert \\Phi_{AB} \\rangle = \\sum_{i=1}^{d_A}\\sum_{j=1}^{d_B} \\alpha_{ij} \\lvert u_i \\rangle^A \\lvert v_j \\rangle^B$$\n",
    "\n",
    "with $\\lvert u_i \\rangle$ and $\\lvert v_j \\rangle$ some orthonormal basis and $\\alpha_{ij}$ complex coefficients. Alternatively, any pure bipartite state can also be written as\n",
    "\n",
    "$$ \\lvert \\Phi_{AB} \\rangle = \\sum_{i=1}^{\\min\\{d_A,d_B\\}} \\sqrt{\\lambda_i} \\lvert u_i \\rangle \\lvert v_i \\rangle $$\n",
    "\n",
    "with $\\lvert u_i \\rangle$, $\\lvert v_i \\rangle$ orthonormal bases and $\\lambda_i$ non-negative coefficients that add up to one. This second form involves only $\\min\\{d_A,d_B\\}$ coefficients $\\lambda_i$ versus the $d_Ad_B$ coefficients $\\alpha_{ij}$ of the first form. This is one of the attractive properties of this second form which was introduced in the videos as the Schmidt decomposition.\n",
    "\n",
    "It's turns out that the number of non-zero Schmidt coefficients tells us something about entanglement. Let's see how we can compute these coefficients and see what they look like for some of our favorite states!"
   ]
  },
  {
   "cell_type": "markdown",
   "metadata": {},
   "source": [
    "In the following we will find the coefficients of the Schmidt decomposition. Given a bipartite state $|\\psi\\rangle$, they can be found as follows:\n",
    "\n",
    "1. Construct the associated density matrix $\\rho = \\lvert \\psi \\rangle \\langle \\psi \\rvert$.\n",
    "2. Compute the reduced state $\\rho_A$.\n",
    "3. Find the eigenvalues $\\lambda_i$ or $\\rho_A$.\n",
    "4. The Schmidt coefficients are the square roots of the eigenvalues.\n",
    "\n",
    "**(Bonus question)** Can you prove that this recipe really returns the Schmidt coefficients?\n",
    "\n",
    "We can turn the recipe into Julia code as follows:"
   ]
  },
  {
   "cell_type": "code",
   "execution_count": null,
   "metadata": {
    "collapsed": false
   },
   "outputs": [],
   "source": [
    "# input a state\n",
    "psi = [1 0 0 1]/sqrt(2)\n",
    "\n",
    "# 1. Construct the density matrix\n",
    "rho = psi'*psi \n",
    "\n",
    "# 2. Get the reduced state\n",
    "rho_A = partialTrace(rho,\"B\") \n",
    "\n",
    "# 3. Find the eigenvalues of the reduced state\n",
    "lambdas = eigvals(rho_A) \n",
    "\n",
    "# 4. The Schmidt coefficients are the square roots of the eigenvalues\n",
    "sCoef = sqrt(lambdas) "
   ]
  },
  {
   "cell_type": "markdown",
   "metadata": {},
   "source": [
    "<h3 style=\"color:#00A6D6;\"> edX Exercise 3</h3>\n",
    "\n",
    "Calculate the Schmidt coefficients of the following bipartite qubit states and enter them into edX. \n",
    "\n",
    "How many non-zero coefficients are there for each state? Are the following states entangled? Check (for example using the function above!) whether the states are entangled and how this relates to the number of non-zero Schmidt coefficients!\n",
    "\n",
    "* $|\\psi\\rangle_{AB}^1=|00\\rangle$\n",
    "* $|\\psi\\rangle_{AB}^2=\\frac{1}{\\sqrt 2}\\left(|00\\rangle+|01\\rangle\\right)$\n",
    "* $|\\psi\\rangle_{AB}^3=\\frac{1}{\\sqrt 2}\\left(|00\\rangle+|11\\rangle\\right)$\n",
    "* $|\\psi\\rangle_{AB}^4=\\sin\\left(\\frac{\\pi}{7}\\right)|00\\rangle-\\cos\\left(\\frac{\\pi}{7}\\right)|11\\rangle$"
   ]
  },
  {
   "cell_type": "markdown",
   "metadata": {},
   "source": [
    "<a id=\"bel\"></a>\n",
    "<h2 style=\"color:#00A6D6;\"> Bell Test </h2>"
   ]
  },
  {
   "cell_type": "markdown",
   "metadata": {},
   "source": [
    "We saw in the videos that entanglement allows correlations that cannot be replicated classically. We exemplified this idea with a bipartite game called CHSH. This game cannot be won classically with probability higher than $p_{\\textrm{win}}=3/4$. However, if Alice and Bob (the two parties) share a maximally entangled state and choose appropriate measurement basis, then they can win with approximately $p_{\\textrm{win}}\\approx 0.854$.\n",
    "\n",
    "Indeed, the CHSH inequality is the one tested in the Delft Bell experiment! Let us now imagine that Alice and Bob cannot make perfect measurements, or they have a noisy entangled state. As you might imagine, this is the more typical scenario in real world quantum implementations. How well can Alice and Bob win CHSH under such conditions?"
   ]
  },
  {
   "cell_type": "markdown",
   "metadata": {},
   "source": [
    "Now, let's imagine that Alice and Bob share an arbitrary bipartite state, Alice and Bob choose measurement basis given by angles $\\theta_0,\\theta_1$ and $\\gamma_0,\\gamma_1$ respectively. What is the winning probablity? We have programmed a function that computes this winning probability (it would also be a good exercise to try to program it yourself!). \n",
    "\n",
    "When we say that the measurement basis is given by angle $\\theta$ we mean that we measure in the basis given by \n",
    "\n",
    "$$\\{\\cos(\\theta)|0\\rangle+\\sin(\\theta)|1\\rangle,-\\sin(\\theta)|0\\rangle+\\cos(\\theta)|1\\rangle\\}.$$"
   ]
  },
  {
   "cell_type": "code",
   "execution_count": null,
   "metadata": {
    "collapsed": false
   },
   "outputs": [],
   "source": [
    "# Let's compute the winning probability with the optimal bases and the maximally entangled state\n",
    "\n",
    "θ_0 = 0;\n",
    "θ_1 = 45;\n",
    "γ_0 = 22.5;\n",
    "γ_1 = -22.5;\n",
    "rho_AB = [1 0 0 1; 0 0 0 0; 0 0 0 0; 1 0 0 1]/2;\n",
    "\n",
    "pwinCHSH(rho_AB,θ_0, θ_1, γ_0, γ_1)"
   ]
  },
  {
   "cell_type": "markdown",
   "metadata": {},
   "source": [
    "<h3 style=\"color:#00A6D6;\"> edX Exercise 4</h3>\n",
    "\n",
    "Compute the winning probability for the following cases. The first two are highly relevant in an implementation: Alice and Bob would really like to share $\\Phi^+$, but due to imperfections they instead end up with a mixed state $\\rho_{AB}$ which with some probability is $|01\\rangle\\langle 01|$.\n",
    "\n",
    "1. Shared state $\\rho_{AB} = \\frac{3}{4} \\Phi^+ +\\frac{1}{4}|01\\rangle\\langle 01|$, and measurement bases: $\\theta_0 = 0, \\theta_1 = 45, \\gamma_0 = 22.5, \\gamma_1 = -22.5$\n",
    "2. Shared state $\\rho_{AB} = \\frac{1}{4} \\Phi^+ +\\frac{3}{4}|01\\rangle\\langle 01|$, and measurement bases: $\\theta_0 = 0, \\theta_1 = 45, \\gamma_0 = 22.5, \\gamma_1 = -22.5$\n",
    "3. Shared state $\\rho_{AB} = \\Phi^+$, and measurement bases: $\\theta_0 = 0, \\theta_1 = 45, \\gamma_0 = 0, \\gamma_1 = 45$\n",
    "\n",
    "where $\\Phi^+=|\\phi^+\\rangle\\langle\\phi^+|$ and $|\\phi^+\\rangle=\\left(|00\\rangle+|11\\rangle\\right)/\\sqrt{2}$. "
   ]
  },
  {
   "cell_type": "markdown",
   "metadata": {},
   "source": [
    "<h3 style=\"color:#00A6D6;\"> Visualization of winning probability in the CHSH game </h3>\n",
    "\n",
    "The following snippet of code visualizes the winnning probability and probability distribution for different measurement settings given that Alice and Bob share a state of the form\n",
    "\n",
    "$$\n",
    "(1-p) \\Phi^+ + p \\frac{\\mathbb I}{4}\n",
    "$$\n",
    "\n",
    "States of the form above are called Werner states. You can think of the term $\\mathbb{I}/4$ as noise created by an imperfect appararatus!"
   ]
  },
  {
   "cell_type": "code",
   "execution_count": null,
   "metadata": {
    "collapsed": false
   },
   "outputs": [],
   "source": [
    "@manipulate for θ_0 = [0,22.5,45], \n",
    "                θ_1 = [45,0,22.5,77.5], \n",
    "                γ_0 = [22.5,0,45,77.5], \n",
    "                γ_1 = [-22.5,0,22.5,45], \n",
    "                p = [0,0.5,1]\n",
    "    \n",
    "    rho_AB = p*0.25*eye(4,4) + (1-p)*0.5*[1 0 0 1; 0 0 0 0; 0 0 0 0; 1 0 0 1] \n",
    "\n",
    "    # Calculate the associated probability distributions\n",
    "    p00, p01, p10, p11 = bell_test_calculations(rho_AB, θ_0, θ_1, γ_0, γ_1)\n",
    "    \n",
    "    # Plot \n",
    "    fig = figure(figsize=(15,2))\n",
    "    withfig(fig) do\n",
    "        bell_test_plot(θ_0, θ_1, γ_0, γ_1, p00, p01, p10, p11)\n",
    "    end\n",
    "end"
   ]
  },
  {
   "cell_type": "markdown",
   "metadata": {},
   "source": [
    "<b> Caption: </b> From left to right: \n",
    "Alice's measurement bases represented by the red and orange lines. Red (orange) represents the measurement basis associated with setting $x=0$ ($x=1$). \n",
    "\n",
    "Bob's measurement bases represented by the blue (light blue) lines. Blue (light blue) represents the measurement basis associated with setting $y=0$ ($y=1$).\n",
    "\n",
    "The probability distribution on measurement outcomes $a$, $b$ given settings $x=0$, $y=0$ - each pillar corresponds to $p(a,b|x,y)$ for $a,b = 00, 01,10,11$. Likewise for the remaining combinations of $x \\in \\{0,1\\}$, $y \\in \\{0,1\\}$ (from left to right). Note, the weighted sum of the probabilities associated with shaded bars give the CHSH winning probability. "
   ]
  }
 ],
 "metadata": {
  "anaconda-cloud": {},
  "kernelspec": {
   "display_name": "Julia 0.5.0",
   "language": "julia",
   "name": "julia-0.5"
  },
  "language_info": {
   "file_extension": ".jl",
   "mimetype": "application/julia",
   "name": "julia",
   "version": "0.5.0"
  }
 },
 "nbformat": 4,
 "nbformat_minor": 0
}
