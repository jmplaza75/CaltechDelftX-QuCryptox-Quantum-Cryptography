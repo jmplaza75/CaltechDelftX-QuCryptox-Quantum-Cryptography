{
 "cells": [
  {
   "cell_type": "markdown",
   "metadata": {},
   "source": [
    "<h1 style=\"color:#00A6D6;\">Week 3: Quantifying Information </h1>\n",
    "\n",
    "Welcome to the new Julia sheet! As usual, we will ask you to use Julia to answer a few exercises. Most importantly, however, the purpose of these Julia sheets is for you to play around and build intuition by exploring and calculating things we do NOT ask you :-) We hope that you take advantage of using Julia this way.\n",
    "\n",
    "<b>Important: JuliaBox has updated their kernel again - this notebook has been mainly tested with Julia 0.4.7! Before you run this notebook, click on \"Kernel\" in the menu above. Then go to \"Change kernel\" and select \"Julia 0.4.7\". Have fun!</b>\n",
    "\n",
    "* <a href=\"#Dist\">Distinguishing quantum states</a>\n",
    "* <a href=\"#Tra\"> Trace Distance</a>\n",
    "* <a href=\"#Min\"> Min-Entropy </a>"
   ]
  },
  {
   "cell_type": "code",
   "execution_count": null,
   "metadata": {
    "collapsed": false
   },
   "outputs": [],
   "source": [
    "include(\"Source/main.jl\");"
   ]
  },
  {
   "cell_type": "markdown",
   "metadata": {},
   "source": [
    "<a id=Dist></a>\n",
    "<h2 style=\"color:#00A6D6;\">Distinguishing quantum states</h2>\n",
    "\n",
    "An important concept is to distinguish quantum states by making a measurement. Let us imagine that we are an adversary - an eavesdropper trying to extract some information from quantum states that we intercepted!\n",
    "\n",
    "Suppose we know that in their protocol Alice and Bob will use the following coding scheme to communicate, where we assume that they already share a secret classical key $\\theta \\in \\{0,1\\}$: If Alice wants to send a bit $x \\in \\{0,1\\}$, she encodes it into the basis $\\theta$, where we will identify $\\theta = 0$ with the standard and $\\theta = 1$ with the Hadamard basis. That is, \n",
    "$$\n",
    "x = 0 \\rightarrow \\left\\{ \\begin{array}{ll} |0\\rangle & \\theta = 0\\\\\n",
    "|+\\rangle & \\theta = 1\n",
    "\\end{array}\\right.\n",
    "$$\n",
    "and\n",
    "$$\n",
    "x = 1 \\rightarrow \\left\\{ \\begin{array}{ll} |1\\rangle & \\theta = 0\\\\\n",
    "|-\\rangle & \\theta = 1\n",
    "\\end{array}\\right.\n",
    "$$\n",
    "\n",
    "Being a resourceful eavesdropper our goal is to gain some information about $x$ even if we are completely ignorant about the basis $\\theta$. That is, for us both $\\theta = 0$ and $\\theta = 1$ are equally likely. How can we gain the maximum amount of information?\n",
    "\n",
    "Let us first note that since $P(\\theta=0) = P(\\theta = 1) = 1/2$, we want to distinguish whether we have the state \n",
    "$$\n",
    "\\rho_0 = \\frac{1}{2} |0\\rangle\\langle 0| + \\frac{1}{2} |+\\rangle\\langle +|\\ .\n",
    "$$\n",
    "or the state \n",
    "$$\n",
    "\\rho_1 = \\frac{1}{2} |1\\rangle\\langle 1| + \\frac{1}{2} |-\\rangle\\langle -|\\ .\n",
    "$$\n",
    "If we have no initial information about $x$ then both states are equally likely. We are thus in a situation in which we want to distinguish $\\rho_0$ given with probability $p_0 = 1/2$ and $\\rho_1$ given with probability $p_1 = 1/2$.\n",
    "\n",
    "How can we distinguish them? Quantumly, this is done by means of a measurement. Since we don't care about any post-measurement states, we can just talk about performing a POVM $\\{M_0,M_1\\}$ where $M_0$ corresponds to a guess of '$\\rho_0$' for the state, and $M_1$ for '$\\rho_1$'. The probability we correctly guess the state is thus given by\n",
    "\n",
    "$$\n",
    "p_{\\rm guess} = \\frac{1}{2} Tr[M_0 \\rho_0] + \\frac{1}{2} Tr[M_1 \\rho_1]\\ .\n",
    "$$\n",
    "\n",
    "Indeed, we will see that the states above play a central role in BB84 QKD. \n",
    "\n",
    "Can you guess a good measurement? Let's first see how well we can do for some specific measurements."
   ]
  },
  {
   "cell_type": "code",
   "execution_count": null,
   "metadata": {
    "collapsed": false
   },
   "outputs": [],
   "source": [
    "# Define the states rho0 and rho1\n",
    "# Start by defining |0> and |1>\n",
    "s0 = [1;0]; \n",
    "s1 = [0;1];\n",
    "\n",
    "# Now |+> and |->\n",
    "h0 = [1;1]/sqrt(2);\n",
    "h1 = [1;-1]/sqrt(2);\n",
    "\n",
    "# Now for rho0 and rho1\n",
    "rho0 = 1/2 * s0*s0' + 1/2 * h0*h0';\n",
    "rho1 = 1/2 * s1*s1' + 1/2 * h1*h1';\n",
    "\n",
    "# Let's see what they look like\n",
    "print(\"Rho0 = \",round(rho0,3),\"\\n\\n\");\n",
    "print(\"Rho1 = \",round(rho1,3))"
   ]
  },
  {
   "cell_type": "code",
   "execution_count": null,
   "metadata": {
    "collapsed": false
   },
   "outputs": [],
   "source": [
    "# Let's pick a simple measurement: measuring in the standard basis!\n",
    "M0 = s0*s0';\n",
    "M1 = s1*s1';\n",
    "\n",
    "pguess = 1/2 * trace(M0 * rho0) + 1/2 * trace(M1 * rho1);\n",
    "\n",
    "# Display rounding to 3 digits\n",
    "print(\"The success probability is \", round(pguess,3));"
   ]
  },
  {
   "cell_type": "markdown",
   "metadata": {},
   "source": [
    "What happens to the state after the measurement? If we were to use the measurements above to attack a protocol and gain information about $x$, we will necessarily disturb the states! Write some Julia code to compute the post-measurement states for your choice of measurements."
   ]
  },
  {
   "cell_type": "code",
   "execution_count": null,
   "metadata": {
    "collapsed": false
   },
   "outputs": [],
   "source": [
    "# Your Julia code here"
   ]
  },
  {
   "cell_type": "markdown",
   "metadata": {},
   "source": [
    "<h3 style=\"color:#00A6D6;\"> edX Exercise 1</h3>\n",
    "Can you do any better? Consult the videos and lecture notes on how to find the optimal probability of success! Write Julia code to compute the success probability maximized over all possible measurements $M_0$ and $M_1$, and enter the final answer into edX, rounded to 3 digits."
   ]
  },
  {
   "cell_type": "code",
   "execution_count": null,
   "metadata": {
    "collapsed": true
   },
   "outputs": [],
   "source": [
    "# Your Julia Code here!"
   ]
  },
  {
   "cell_type": "markdown",
   "metadata": {},
   "source": [
    "<a id=Tra></a>\n",
    "<h2 style=\"color:#00A6D6;\"> Trace Distance</h2>\n",
    "\n",
    "In the video's we have seen that we can indeed measure how distinguishable two states are using the trace distance! The trace distances is thus a very operational way to quantify the distance between two states, i.e., how different they are. \n",
    "\n",
    "The trace distance is an extremely important concept also for understanding security guarantees: if the real state generated by the protocol is epsilon close in trace distance to the ideal state that we would like to obtain, then we call our protocol epsilon secure: no measurement can distinguish real from ideal with an advantage larger than epsilon.\n",
    "\n",
    "Let us define a function to compute the trace distance. You can also find a function that does more input checking in the source folder (traceDist.jl)."
   ]
  },
  {
   "cell_type": "code",
   "execution_count": null,
   "metadata": {
    "collapsed": false
   },
   "outputs": [],
   "source": [
    "# We can define a simple trace distance calculator:\n",
    "# Input: density matrices rho1 and rho2\n",
    "# Output: the trace distance between the two matrices: D(rho1,rho2)\n",
    "function D(rho1,rho2)\n",
    "\n",
    "    # Compute the difference operator and its eigenvalues\n",
    "    A = rho1 - rho2;\n",
    "    eigA = eigvals(A);\n",
    "        \n",
    "    # Remember that the optimal distinguishing measurement is given by the projectors on the positive\n",
    "    # and negative eigenspaces of A. Chiefly the trace distance could be obtained from trace(MA) where M\n",
    "    # is a projector on the positive eigenspace of A. To compute this, all we have to do is hence to compute\n",
    "    # the sum of positive eigenvalues of A.\n",
    "    s = 0;\n",
    "    for j = 1:length(eigA)\n",
    "            if(eigA[j] > 0)\n",
    "                    s = s + eigA[j];\n",
    "            end\n",
    "    end\n",
    "\n",
    "    return s;\n",
    "end"
   ]
  },
  {
   "cell_type": "markdown",
   "metadata": {},
   "source": [
    "Compute the trace distance between the original and the post-measurement states in your \"attack\" measurement distinguishing the quantum states above. Try a few (incl. the optimal) measurement. For each case, let Julia compute the success probability and the post-measurement states using the code above. \n",
    "\n",
    "Now use the function above to compute the trace distance between the post-measurement and the original states. What do you observe about the relation between the probability of success and the trace distance of the post-measurement to the original states for difference measurements? "
   ]
  },
  {
   "cell_type": "code",
   "execution_count": null,
   "metadata": {
    "collapsed": true
   },
   "outputs": [],
   "source": [
    "# Your Julia code here!"
   ]
  },
  {
   "cell_type": "markdown",
   "metadata": {},
   "source": [
    "Let us visualize the trace distance between two quantum states! We have chosen two concrete ones:\n",
    "\n",
    "\\begin{align}\n",
    "\\rho_1&=|0\\rangle\\langle 0|\\\\\n",
    "\\rho_2(p)&=p|0\\rangle\\langle 0|+(1-p)|1\\rangle\\langle 1|\\\\\n",
    "\\end{align}\n",
    "\n",
    "That is, the zero state and a mixture of zero and one. Try to experiment with other states to get a feeling of the two quantities."
   ]
  },
  {
   "cell_type": "code",
   "execution_count": null,
   "metadata": {
    "collapsed": false
   },
   "outputs": [],
   "source": [
    "# Let's first define rho1 and rho2 - change these to play around!\n",
    "rho1 = [1 0; 0 0]\n",
    "p = 0.3 # Try changing the value of p\n",
    "rho2 = p*[1 0; 0 0] + (1-p)*[0 0; 0 1]\n",
    "\n",
    "# Compute the trace distance\n",
    "dist = D(rho1,rho2) \n",
    "\n",
    "# Map to Bloch vectors\n",
    "v1 = dens_to_bloch(rho1)\n",
    "v2 = dens_to_bloch(rho2)\n",
    "\n",
    "# Add a Bloch vector to the Bloch sphere\n",
    "b1 = Bloch()\n",
    "add_vector(b1,v1)\n",
    "add_vector(b1,v2)\n",
    "add_title(b1,\"\\$ D(\\\\rho_1,\\\\rho_2) = \\$ $dist\")\n",
    "render(b1)"
   ]
  },
  {
   "cell_type": "markdown",
   "metadata": {},
   "source": [
    "Let us now plot how the trace distance between the states $\\rho_1$ and $\\rho_2(p)$ above as $\\rho_2$ changes depending on $p\\in[0,1]$. Make sure that you understand the extreme values. That is, the trace distance in the case that $p=0$ or $p=1$."
   ]
  },
  {
   "cell_type": "code",
   "execution_count": null,
   "metadata": {
    "collapsed": false
   },
   "outputs": [],
   "source": [
    "# Let's redefine rho1 and rho2 in separate variables in case you changed them above :-)\n",
    "rho1Demo = [1 0; 0 0]\n",
    "\n",
    "dists = [] # our data containers\n",
    "fids = []\n",
    "\n",
    "P = collect(0:0.01:1) # collect(begin:stepSize:stop) : a list of numbers\n",
    "\n",
    "for p in P # the values of p \n",
    "    \n",
    "    rho2Demo = p*[1 0; 0 0] + (1-p)*[0 0; 0 1]\n",
    "    \n",
    "    push!(dists,D(rho1Demo,rho2Demo)) # push the value D(rho1,rho2) into the data container\n",
    "end\n",
    "\n",
    "plot(P,dists, label = \"trace distance\")\n",
    "legend(loc=5) # plot the legend, loc sets the location"
   ]
  },
  {
   "cell_type": "markdown",
   "metadata": {},
   "source": [
    "<h3 style=\"color:#00A6D6;\"> edX Exercise 2</h3>\n",
    "\n",
    "Compute the trace distance between\n",
    "\n",
    "* $|00\\rangle\\langle 00|$ and itself\n",
    "\n",
    "* $|00\\rangle\\langle 00|$ and $|11\\rangle \\langle 11|$ \n",
    "\n",
    "* $|00\\rangle\\langle 00|$ and the EPR pair\n",
    "\n",
    "* $|0\\rangle \\langle 0|$ and $|+\\rangle \\langle +|$"
   ]
  },
  {
   "cell_type": "code",
   "execution_count": null,
   "metadata": {
    "collapsed": false
   },
   "outputs": [],
   "source": [
    "# You can write your code here"
   ]
  },
  {
   "cell_type": "markdown",
   "metadata": {},
   "source": [
    "<a id=Min></a>\n",
    "<h2 style=\"color:#00A6D6;\"> Min-Entropy </h2>"
   ]
  },
  {
   "cell_type": "markdown",
   "metadata": {},
   "source": [
    "The min-entropy is a central concept on how to quantify approximate forms of ignorance (where we are not $\\epsilon$-close in terms of the trace distance to being completely ignorant :-) )! \n",
    "\n",
    "Let's explore the min-entropy of an eavesdropper holding an intercepted quantum system $E$ that contains information about a classical string $x = x_1,\\ldots, x_n$ in system $X$. Specifically, the joint state is a cq-state\n",
    "$$\n",
    "\\rho_{XE} = \\sum_{x \\in \\{0,1\\}^n} p_x |x\\rangle\\langle x|_X \\otimes \\rho_x^E \n",
    "$$\n",
    "\n",
    "Let's first compute it on some simple examples of $\\rho_{X} = |0\\rangle\\langle 0|$ ($E$ being trivial) and $\\rho_{XE} = |0\\rangle\\langle 0|_X \\otimes |0\\rangle\\langle 0|_E$ ($E$ has the same information).\n",
    "\n",
    "Before you run the code, think! What do you expect? Test the code with a few other states!"
   ]
  },
  {
   "cell_type": "code",
   "execution_count": null,
   "metadata": {
    "collapsed": false
   },
   "outputs": [],
   "source": [
    "digits = 3\n",
    "\n",
    "# The following function computes the min-entropy for you. you may want to take a look at it's code in the source folder!\n",
    "# minEntropy(rhoAE, dimA) - where dimA is the dimension of the system A\n",
    "\n",
    "# Example: Min entropy of |0><0|\n",
    "rhoA = [1 0; 0 0];\n",
    "e1 = minEntropy(rhoA,2);\n",
    "e1 = round(e1,digits);\n",
    "print(\"Min-Entropy of |0><0| is \", e1, \"\\n\");\n",
    "\n",
    "# Example: Conditional min entropy of |0><0|^A x |0><0|^E\n",
    "rhoAE = kron(rhoA,rhoA); \n",
    "c1 = minEntropy(rhoAE,2);\n",
    "c1 = round(c1,digits);\n",
    "print(\"Min-Entropy of |0><0|^A ox |0><0|^E is \", c1, \"\\n\");"
   ]
  },
  {
   "cell_type": "markdown",
   "metadata": {},
   "source": [
    "Let's now consider a very simple scenario where $n=1$, and $p_0 = p_1 = 1/2$, and we have the states from Exercise 1, that is,\n",
    "$$\n",
    "\\rho_0^E = \\frac{1}{2} |0\\rangle\\langle 0| + \\frac{1}{2} |+\\rangle\\langle +|\\ .\n",
    "$$\n",
    "or the state \n",
    "$$\n",
    "\\rho_1^E = \\frac{1}{2} |1\\rangle\\langle 1| + \\frac{1}{2} |-\\rangle\\langle -|\\ .\n",
    "$$"
   ]
  },
  {
   "cell_type": "code",
   "execution_count": null,
   "metadata": {
    "collapsed": false
   },
   "outputs": [],
   "source": [
    "# Define the appropriate state rhoXE in Julia\n",
    "# rhoXE = ...\n",
    "\n",
    "# Compute the min-entropy and print (rounded to 3 digits)\n",
    "me = minEntropy(rhoXE,2);\n",
    "\n",
    "print(\"The min-entropy is \",round(me,3),\"\\n\")"
   ]
  },
  {
   "cell_type": "markdown",
   "metadata": {},
   "source": [
    "Do you remember the operational interpretation of the min-entropy in terms of the guessing probability? Consult the lecture notes, and test the relation between $p_{\\rm guess}$ and the min-entropy $H_{\\rm min}(X|E)$ for the example above."
   ]
  },
  {
   "cell_type": "markdown",
   "metadata": {},
   "source": [
    "<h3 style=\"color:#00A6D6;\"> edX Exercise 3</h3>\n",
    "Let's now compute the conditional min entropy $H_{\\rm min}(A|E)$ of A given E for some illustrative examples\n",
    "\n",
    "* $\\rho_{AE} = \\frac{I_A}{2} \\otimes |0\\rangle\\langle 0|_E$\n",
    "\n",
    "* $\\rho_{AE} = |\\Phi\\rangle\\langle\\Phi|_{AE}$ with $|\\Phi\\rangle_{AE} = \\frac{1}{\\sqrt{2}} \\left(|00\\rangle_{AE} + |11\\rangle_{AE}\\right)$\n",
    "\n",
    "* $\\rho_{AE} = \\frac{1}{2} |0\\rangle \\langle 0|_A \\otimes |0\\rangle \\langle 0|_E +  \\frac{1}{2}|1\\rangle \\langle 1|_A \\otimes |+ \\rangle \\langle +|_E$"
   ]
  },
  {
   "cell_type": "markdown",
   "metadata": {},
   "source": [
    "<h3 style=\"color:#00A6D6;\"> edX Exercise 4</h3>\n",
    "Compute the min-entropy of the cq-state\n",
    "$$\n",
    "\\rho_{XE} =  \\sum_{x \\in \\{0,1\\}^2} p_x |x\\rangle\\langle x| \\otimes \\rho_x\n",
    "$$\n",
    "with $\\rho_{00}$, $\\rho_{01}$, $\\rho_{10}$ and $\\rho_{11}$ defined below. Enter the value into edX rounded to 3 digits. Remember that the function *minEntropy* takes two inputs:\n",
    "* rhoAE - A bipartite system\n",
    "* dimA - the dimension of the system A (which is not necessarily 2)"
   ]
  },
  {
   "cell_type": "code",
   "execution_count": null,
   "metadata": {
    "collapsed": false
   },
   "outputs": [],
   "source": [
    "# Probabilities\n",
    "p00 = 1/4;\n",
    "p01 = 1/4;\n",
    "p10 = 1/10;\n",
    "p11 = 4/10;\n",
    "\n",
    "# States rho_x\n",
    "v00 = [4; 1; 9; 7];\n",
    "w00 = v00/sqrt(v00'*v00)[1];\n",
    "rho00 = w00*w00';\n",
    "\n",
    "v01 = [8; 1; 2; 0];\n",
    "w01 = v01/sqrt(v01'*v01)[1];\n",
    "rho01 = w01*w01';\n",
    "\n",
    "v10 = [5; 9; 1; 8];\n",
    "w10 = v10/sqrt(v10'*v10)[1];\n",
    "rho10 = w10 * w10';\n",
    "\n",
    "v11 = [0; 1; 2; 1];\n",
    "w11 = v11/sqrt(v11'*v11)[1];\n",
    "rho11 = w11 * w11';\n",
    "\n",
    "# States |x><x|\n",
    "\n",
    "# Construct the cq-state rhoXE\n",
    "\n",
    "# Compute min entropy \n"
   ]
  },
  {
   "cell_type": "markdown",
   "metadata": {
    "collapsed": true
   },
   "source": [
    "<a rel=\"license\" href=\"http://creativecommons.org/licenses/by-nc/4.0/\"><img alt=\"Creative Commons License\" style=\"border-width:0\" src=\"https://i.creativecommons.org/l/by-nc/4.0/88x31.png\" /></a><br /><span xmlns:dct=\"http://purl.org/dc/terms/\" property=\"dct:title\">Week 3 Exercises for QuCryptoX</span> by David Elkouss and Stephanie Wehner for <a xmlns:cc=\"http://creativecommons.org/ns#\" href=\"http://qutech.nl/edu/\" property=\"cc:attributionName\" rel=\"cc:attributionURL\">QuTech Academy</a> is licensed under a <a rel=\"license\" href=\"http://creativecommons.org/licenses/by-nc/4.0/\">Creative Commons Attribution-NonCommercial 4.0 International License</a>."
   ]
  }
 ],
 "metadata": {
  "anaconda-cloud": {},
  "kernelspec": {
   "display_name": "Julia 0.5.0",
   "language": "julia",
   "name": "julia-0.5"
  },
  "language_info": {
   "file_extension": ".jl",
   "mimetype": "application/julia",
   "name": "julia",
   "version": "0.5.0"
  }
 },
 "nbformat": 4,
 "nbformat_minor": 0
}
